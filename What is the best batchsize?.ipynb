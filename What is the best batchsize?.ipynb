{
 "cells": [
  {
   "cell_type": "code",
   "execution_count": 37,
   "metadata": {},
   "outputs": [],
   "source": [
    "import numpy as np\n",
    "import matplotlib.pyplot as plt\n",
    "from typing import Tuple\n",
    "from sklearn.preprocessing import MinMaxScaler\n",
    "from sklearn.model_selection import train_test_split\n",
    "from sklearn.metrics import average_precision_score\n",
    "import os\n",
    "import random\n",
    "import tensorflow as tf\n",
    "from keras import backend as K\n",
    "from keras.models import Sequential\n",
    "from keras.layers import Dense, InputLayer\n",
    "from keras.utils import print_summary\n",
    "from tqdm import tqdm_notebook as tqdm\n",
    "import json"
   ]
  },
  {
   "cell_type": "code",
   "execution_count": 2,
   "metadata": {},
   "outputs": [],
   "source": [
    "tf.logging.set_verbosity(tf.logging.ERROR)"
   ]
  },
  {
   "cell_type": "code",
   "execution_count": 3,
   "metadata": {},
   "outputs": [],
   "source": [
    "def set_seed(seed:int):\n",
    "    \"\"\"Set the random state of the various random extractions.\n",
    "        seed:int, the seed to set the random state to.\n",
    "    \"\"\"\n",
    "    np.random.seed(seed)\n",
    "    random.seed(seed)\n",
    "    tf.set_random_seed(seed)"
   ]
  },
  {
   "cell_type": "code",
   "execution_count": 4,
   "metadata": {},
   "outputs": [],
   "source": [
    "def load_dataset(path:str)->Tuple[np.ndarray, np.ndarray]:\n",
    "    \"\"\"Return the dataset at given path.\"\"\"\n",
    "    # Since we do not have the dataset as of now, we return noise\n",
    "    N = 1000\n",
    "    x = np.random.uniform(size=(N, 26))\n",
    "    y = np.random.binomial(100, 0.7, size=(N, 1)) > 80\n",
    "    return x, y"
   ]
  },
  {
   "cell_type": "code",
   "execution_count": 5,
   "metadata": {},
   "outputs": [],
   "source": [
    "def scale(train:np.ndarray, test:np.ndarray):\n",
    "    \"\"\"Return scaler, scaled training and test vectors based on given training vector.\"\"\"\n",
    "    scaler = MinMaxScaler().fit(train)\n",
    "    return scaler, scaler.transform(train), scaler.transform(test)"
   ]
  },
  {
   "cell_type": "code",
   "execution_count": 6,
   "metadata": {},
   "outputs": [],
   "source": [
    "def split_dataset(dataset:Tuple[np.ndarray, np.ndarray], seed:int, test_size:float=0.3)->Tuple[np.ndarray, np.ndarray, np.ndarray, np.ndarray]:\n",
    "    \"\"\"Return the given dataset split among training a test set for the given random seed.\n",
    "        dataset:Tuple[np.ndarray, np.ndarray], the dataset to split.\n",
    "        seed:int, the seed to use for the random split.\n",
    "    \"\"\"\n",
    "    return train_test_split(*dataset, test_size=test_size, random_state=seed)"
   ]
  },
  {
   "cell_type": "code",
   "execution_count": 7,
   "metadata": {},
   "outputs": [],
   "source": [
    "def scale_split_dataset(dataset, seed:int, test_size:float=0.3):\n",
    "    \"\"\"Return split and scaled dataset.\"\"\"\n",
    "    x_train, x_test, y_train, y_test = split_dataset(dataset, seed, test_size)\n",
    "    return (*scale(x_train, x_test), y_train, y_test)"
   ]
  },
  {
   "cell_type": "code",
   "execution_count": 8,
   "metadata": {},
   "outputs": [],
   "source": [
    "def mlp(input_size:int):\n",
    "    \"\"\"Return a multi-layer perceptron.\"\"\"\n",
    "    set_seed(42)\n",
    "    model = Sequential([\n",
    "        InputLayer(input_shape=(input_size,)),\n",
    "        *[Dense(input_size, activation=\"relu\") for i in range(3)],\n",
    "        Dense(1, activation=\"sigmoid\")\n",
    "    ])\n",
    "    model.compile(\n",
    "        optimizer=\"nadam\",\n",
    "        loss='mean_squared_error'\n",
    "    )\n",
    "    return model"
   ]
  },
  {
   "cell_type": "code",
   "execution_count": 9,
   "metadata": {},
   "outputs": [],
   "source": [
    "def fit(model:Sequential, x_train:np.ndarray, x_test:np.ndarray, y_train:np.ndarray, y_test:np.ndarray, epochs:int, batch_size:int):\n",
    "    \"\"\"Train the given model on given train data for the given epochs number.\n",
    "        model:Sequential, the model to be trained.\n",
    "        x_train:np.ndarray, the input for training the model.\n",
    "        x_test:np.ndarray, the input for testing the model.\n",
    "        y_train:np.ndarray, the output labels for training the model.\n",
    "        y_test:np.ndarray, the output labels for testing the model.\n",
    "        epochs:int, number of epochs for which to train the model.\n",
    "        initial_epoch:int, starting epoch.\n",
    "        batch_size:int, number of datapoints per training batch.\n",
    "    \"\"\"\n",
    "    return model.fit(\n",
    "        x_train,\n",
    "        y_train,\n",
    "        shuffle=True,\n",
    "        verbose=0,\n",
    "        validation_data=(x_test, y_test),\n",
    "        epochs=epochs,\n",
    "        batch_size=batch_size\n",
    "    )"
   ]
  },
  {
   "cell_type": "code",
   "execution_count": 25,
   "metadata": {},
   "outputs": [],
   "source": [
    "def train_holdouts(holdouts:int, batch_size:int, path:str, epochs:int=2):\n",
    "    auprcs = []\n",
    "    for holdout in tqdm(range(holdouts), desc=\"Holdouts\", leave=False):\n",
    "        _, x_train, x_test, y_train, y_test = scale_split_dataset(load_dataset(path), holdout)\n",
    "        model = mlp(x_train.shape[1])\n",
    "        fit(\n",
    "            model,\n",
    "            x_train,\n",
    "            x_test,\n",
    "            y_train,\n",
    "            y_test,\n",
    "            epochs, \n",
    "            batch_size\n",
    "        )\n",
    "        \n",
    "        auprcs.append(average_precision_score(\n",
    "            y_test,\n",
    "            model.predict(x_test)))\n",
    "\n",
    "    return np.mean(auprcs)"
   ]
  },
  {
   "cell_type": "code",
   "execution_count": 32,
   "metadata": {},
   "outputs": [],
   "source": [
    "def train_batch_sizes(min_batch:int, max_batch:int, path:str, holdouts:int=2):\n",
    "    return list(zip(*[\n",
    "        (batch_size, train_holdouts(holdouts, batch_size, path)) for batch_size in tqdm(range(min_batch, max_batch), desc=\"Batch sizes\")\n",
    "    ]))"
   ]
  },
  {
   "cell_type": "code",
   "execution_count": 35,
   "metadata": {},
   "outputs": [
    {
     "data": {
      "application/vnd.jupyter.widget-view+json": {
       "model_id": "daa8a8fc12774d0f895cd904351b18a1",
       "version_major": 2,
       "version_minor": 0
      },
      "text/plain": [
       "HBox(children=(IntProgress(value=0, description='Batch sizes', max=9, style=ProgressStyle(description_width='i…"
      ]
     },
     "metadata": {},
     "output_type": "display_data"
    },
    {
     "data": {
      "application/vnd.jupyter.widget-view+json": {
       "model_id": "",
       "version_major": 2,
       "version_minor": 0
      },
      "text/plain": [
       "HBox(children=(IntProgress(value=0, description='Holdouts', max=2, style=ProgressStyle(description_width='init…"
      ]
     },
     "metadata": {},
     "output_type": "display_data"
    },
    {
     "data": {
      "application/vnd.jupyter.widget-view+json": {
       "model_id": "",
       "version_major": 2,
       "version_minor": 0
      },
      "text/plain": [
       "HBox(children=(IntProgress(value=0, description='Holdouts', max=2, style=ProgressStyle(description_width='init…"
      ]
     },
     "metadata": {},
     "output_type": "display_data"
    },
    {
     "data": {
      "application/vnd.jupyter.widget-view+json": {
       "model_id": "",
       "version_major": 2,
       "version_minor": 0
      },
      "text/plain": [
       "HBox(children=(IntProgress(value=0, description='Holdouts', max=2, style=ProgressStyle(description_width='init…"
      ]
     },
     "metadata": {},
     "output_type": "display_data"
    },
    {
     "data": {
      "application/vnd.jupyter.widget-view+json": {
       "model_id": "",
       "version_major": 2,
       "version_minor": 0
      },
      "text/plain": [
       "HBox(children=(IntProgress(value=0, description='Holdouts', max=2, style=ProgressStyle(description_width='init…"
      ]
     },
     "metadata": {},
     "output_type": "display_data"
    },
    {
     "data": {
      "application/vnd.jupyter.widget-view+json": {
       "model_id": "",
       "version_major": 2,
       "version_minor": 0
      },
      "text/plain": [
       "HBox(children=(IntProgress(value=0, description='Holdouts', max=2, style=ProgressStyle(description_width='init…"
      ]
     },
     "metadata": {},
     "output_type": "display_data"
    },
    {
     "data": {
      "application/vnd.jupyter.widget-view+json": {
       "model_id": "",
       "version_major": 2,
       "version_minor": 0
      },
      "text/plain": [
       "HBox(children=(IntProgress(value=0, description='Holdouts', max=2, style=ProgressStyle(description_width='init…"
      ]
     },
     "metadata": {},
     "output_type": "display_data"
    },
    {
     "data": {
      "application/vnd.jupyter.widget-view+json": {
       "model_id": "",
       "version_major": 2,
       "version_minor": 0
      },
      "text/plain": [
       "HBox(children=(IntProgress(value=0, description='Holdouts', max=2, style=ProgressStyle(description_width='init…"
      ]
     },
     "metadata": {},
     "output_type": "display_data"
    },
    {
     "data": {
      "application/vnd.jupyter.widget-view+json": {
       "model_id": "",
       "version_major": 2,
       "version_minor": 0
      },
      "text/plain": [
       "HBox(children=(IntProgress(value=0, description='Holdouts', max=2, style=ProgressStyle(description_width='init…"
      ]
     },
     "metadata": {},
     "output_type": "display_data"
    },
    {
     "data": {
      "application/vnd.jupyter.widget-view+json": {
       "model_id": "",
       "version_major": 2,
       "version_minor": 0
      },
      "text/plain": [
       "HBox(children=(IntProgress(value=0, description='Holdouts', max=2, style=ProgressStyle(description_width='init…"
      ]
     },
     "metadata": {},
     "output_type": "display_data"
    }
   ],
   "source": [
    "path = \"\"\n",
    "auprcs = train_batch_sizes(1, 10, path)"
   ]
  },
  {
   "cell_type": "code",
   "execution_count": 38,
   "metadata": {},
   "outputs": [],
   "source": [
    "with open(\"auprcs.json\", \"w\") as f:\n",
    "    json.dump(auprcs, f)"
   ]
  }
 ],
 "metadata": {
  "kernelspec": {
   "display_name": "Python 3",
   "language": "python",
   "name": "python3"
  },
  "language_info": {
   "codemirror_mode": {
    "name": "ipython",
    "version": 3
   },
   "file_extension": ".py",
   "mimetype": "text/x-python",
   "name": "python",
   "nbconvert_exporter": "python",
   "pygments_lexer": "ipython3",
   "version": "3.7.1"
  }
 },
 "nbformat": 4,
 "nbformat_minor": 2
}
