{
 "cells": [
  {
   "cell_type": "code",
   "execution_count": null,
   "metadata": {},
   "outputs": [],
   "source": [
    "import numpy as np\n",
    "import pandas as pd\n",
    "import matplotlib.pyplot as plt\n",
    "from typing import Tuple, List\n",
    "from sklearn.preprocessing import MinMaxScaler\n",
    "from sklearn.model_selection import train_test_split\n",
    "import os\n",
    "import random\n",
    "import tensorflow as tf\n",
    "from keras import backend as K\n",
    "from keras.models import Sequential\n",
    "from keras.layers import Dense, InputLayer\n",
    "from keras.utils import print_summary\n",
    "import json"
   ]
  },
  {
   "cell_type": "code",
   "execution_count": null,
   "metadata": {},
   "outputs": [],
   "source": [
    "tf.logging.set_verbosity(tf.logging.ERROR)"
   ]
  },
  {
   "cell_type": "code",
   "execution_count": null,
   "metadata": {},
   "outputs": [],
   "source": [
    "def set_seed(seed:int):\n",
    "    \"\"\"Set the random state of the various random extractions.\n",
    "        seed:int, the seed to set the random state to.\n",
    "    \"\"\"\n",
    "    np.random.seed(seed)\n",
    "    random.seed(seed)\n",
    "    tf.set_random_seed(seed)"
   ]
  },
  {
   "cell_type": "code",
   "execution_count": null,
   "metadata": {},
   "outputs": [],
   "source": [
    "def is_gpu_available():\n",
    "    return bool(K.tensorflow_backend._get_available_gpus())"
   ]
  },
  {
   "cell_type": "code",
   "execution_count": null,
   "metadata": {},
   "outputs": [],
   "source": [
    "def isnotebook():\n",
    "    try:\n",
    "        shell = get_ipython().__class__.__name__\n",
    "        if shell == 'ZMQInteractiveShell':\n",
    "            return True   # Jupyter notebook or qtconsole\n",
    "        elif shell == 'TerminalInteractiveShell':\n",
    "            return False  # Terminal running IPython\n",
    "        else:\n",
    "            return False  # Other type (?)\n",
    "    except NameError:\n",
    "        return False      # Probably standard Python interpreter"
   ]
  },
  {
   "cell_type": "code",
   "execution_count": null,
   "metadata": {},
   "outputs": [],
   "source": [
    "if isnotebook():\n",
    "    from tqdm import tqdm_notebook as tqdm\n",
    "    from keras_tqdm import TQDMNotebookCallback as ktqdm\n",
    "else: \n",
    "    from tqdm import tqdm\n",
    "    from keras_tqdm import TQDMCallback as ktqdm"
   ]
  },
  {
   "cell_type": "code",
   "execution_count": null,
   "metadata": {},
   "outputs": [],
   "source": [
    "def load_dataset(x:str, y:str)->Tuple[np.ndarray, np.ndarray]:\n",
    "    return pd.read_csv(x, index_col=0).values, pd.read_csv(y, index_col=0).values"
   ]
  },
  {
   "cell_type": "code",
   "execution_count": null,
   "metadata": {},
   "outputs": [],
   "source": [
    "def scale(train:np.ndarray, test:np.ndarray):\n",
    "    \"\"\"Return scaler, scaled training and test vectors based on given training vector.\"\"\"\n",
    "    scaler = MinMaxScaler().fit(train)\n",
    "    return scaler.transform(train), scaler.transform(test)"
   ]
  },
  {
   "cell_type": "code",
   "execution_count": null,
   "metadata": {},
   "outputs": [],
   "source": [
    "def split_dataset(dataset:Tuple[np.ndarray, np.ndarray], seed:int, test_size:float=0.3)->Tuple[np.ndarray, np.ndarray, np.ndarray, np.ndarray]:\n",
    "    \"\"\"Return the given dataset split among training a test set for the given random seed.\n",
    "        dataset:Tuple[np.ndarray, np.ndarray], the dataset to split.\n",
    "        seed:int, the seed to use for the random split.\n",
    "    \"\"\"\n",
    "    return train_test_split(*dataset, test_size=test_size, random_state=seed)"
   ]
  },
  {
   "cell_type": "code",
   "execution_count": null,
   "metadata": {},
   "outputs": [],
   "source": [
    "def scale_split_dataset(dataset, seed:int, test_size:float=0.3):\n",
    "    \"\"\"Return split and scaled dataset.\"\"\"\n",
    "    x_train, x_test, y_train, y_test = split_dataset(dataset, seed, test_size)\n",
    "    return (*scale(x_train, x_test), y_train, y_test)"
   ]
  },
  {
   "cell_type": "code",
   "execution_count": null,
   "metadata": {},
   "outputs": [],
   "source": [
    "def auprc(y_true, y_pred)->float:\n",
    "    score = tf.metrics.auc(y_true, y_pred, curve=\"PR\", summation_method=\"careful_interpolation\")[1]\n",
    "    K.get_session().run(tf.local_variables_initializer())\n",
    "    return score"
   ]
  },
  {
   "cell_type": "code",
   "execution_count": null,
   "metadata": {},
   "outputs": [],
   "source": [
    "def mlp(input_size:int):\n",
    "    \"\"\"Return a multi-layer perceptron.\"\"\"\n",
    "    set_seed(42)\n",
    "    model = Sequential([\n",
    "        InputLayer(input_shape=(input_size,)),\n",
    "        *[Dense(input_size, activation=\"relu\") for i in range(5)],\n",
    "        Dense(1, activation=\"sigmoid\")\n",
    "    ])\n",
    "    model.compile(\n",
    "        optimizer=\"nadam\",\n",
    "        loss='mean_squared_error',\n",
    "        metrics=[auprc]\n",
    "    )\n",
    "    return model"
   ]
  },
  {
   "cell_type": "code",
   "execution_count": null,
   "metadata": {},
   "outputs": [],
   "source": [
    "def fit(model:Sequential, x_train:np.ndarray, x_test:np.ndarray, y_train:np.ndarray, y_test:np.ndarray, epochs:int, batch_size:int):\n",
    "    \"\"\"Train the given model on given train data for the given epochs number.\n",
    "        model:Sequential, the model to be trained.\n",
    "        x_train:np.ndarray, the input for training the model.\n",
    "        x_test:np.ndarray, the input for testing the model.\n",
    "        y_train:np.ndarray, the output labels for training the model.\n",
    "        y_test:np.ndarray, the output labels for testing the model.\n",
    "        epochs:int, number of epochs for which to train the model.\n",
    "        initial_epoch:int, starting epoch.\n",
    "        batch_size:int, number of datapoints per training batch.\n",
    "    \"\"\"\n",
    "    return model.fit(\n",
    "        x_train,\n",
    "        y_train,\n",
    "        shuffle=True,\n",
    "        verbose=0,\n",
    "        validation_data=(x_test, y_test),\n",
    "        epochs=epochs,\n",
    "        callbacks=[ktqdm()],\n",
    "        batch_size=batch_size\n",
    "    )"
   ]
  },
  {
   "cell_type": "code",
   "execution_count": null,
   "metadata": {},
   "outputs": [],
   "source": [
    "def store_auprc(batch_size:int, holdout:int, auprc:float, path:str=\"auprcs.json\"):\n",
    "    if os.path.exists(\"auprcs.json\"):\n",
    "        with open(\"auprcs.json\", \"r\") as f:\n",
    "            auprcs = json.load(f)\n",
    "    else:\n",
    "        auprcs = {}\n",
    "    if batch_size not in auprcs:\n",
    "        auprcs[batch_size] = {}\n",
    "    if holdout not in auprcs[batch_size]:\n",
    "        auprcs[batch_size][holdout] = auprc\n",
    "    with open(\"auprcs.json\", \"w\") as f:\n",
    "        json.dump(auprcs, f)"
   ]
  },
  {
   "cell_type": "code",
   "execution_count": null,
   "metadata": {},
   "outputs": [],
   "source": [
    "def is_auprc_cached(batch_size:int, holdout:int, path:str=\"auprcs.json\"):\n",
    "    with open(\"auprcs.json\", \"r\") as f:\n",
    "        auprcs = json.load(f)\n",
    "        return batch_size in auprcs and holdout in auprcs[batch_size]"
   ]
  },
  {
   "cell_type": "code",
   "execution_count": null,
   "metadata": {},
   "outputs": [],
   "source": [
    "def train_holdouts(batch_size:int, holdouts:int, dataset, epochs:int):\n",
    "    [\n",
    "        store_auprc(\n",
    "            batch_size,\n",
    "            holdout,\n",
    "            fit(\n",
    "                mlp(26),\n",
    "                *scale_split_dataset(dataset, holdout),\n",
    "                epochs, \n",
    "                batch_size\n",
    "            ).history[\"val_auprc\"][-1])\n",
    "        for holdout in tqdm(range(holdouts), desc=\"Holdouts for batch_size {batch_size}\".format(batch_size=batch_size), leave=False)\n",
    "        if not is_auprc_cached(batch_size, holdout)\n",
    "    ]"
   ]
  },
  {
   "cell_type": "code",
   "execution_count": null,
   "metadata": {},
   "outputs": [],
   "source": [
    "def train_batch_sizes(batch_sizes:List[int], datapoints:str, labels:str, holdouts:int, epochs:int):\n",
    "    dataset = load_dataset(datapoints, labels)\n",
    "    [\n",
    "        train_holdouts(batch_size, holdouts, dataset, epochs) \n",
    "        for batch_size in tqdm(batch_sizes, desc=\"Batch sizes\")\n",
    "    ]"
   ]
  },
  {
   "cell_type": "code",
   "execution_count": null,
   "metadata": {},
   "outputs": [],
   "source": [
    "def get_batch_sizes(n:int, offset:int=2):\n",
    "    return [\n",
    "        i**2 + int(1.175**i) for i in range(offset, n+offset)\n",
    "    ]"
   ]
  },
  {
   "cell_type": "code",
   "execution_count": null,
   "metadata": {
    "scrolled": false
   },
   "outputs": [],
   "source": [
    "holdouts = 10\n",
    "epochs = 100\n",
    "batch_sizes = get_batch_sizes(50)\n",
    "if is_gpu_available():\n",
    "    print(\"Working with GPU!\")\n",
    "train_batch_sizes(batch_sizes, \"folds/x_4.csv\", \"folds/y_4.csv\", holdouts, epochs)"
   ]
  }
 ],
 "metadata": {
  "kernelspec": {
   "display_name": "Python 3",
   "language": "python",
   "name": "python3"
  },
  "language_info": {
   "codemirror_mode": {
    "name": "ipython",
    "version": 3
   },
   "file_extension": ".py",
   "mimetype": "text/x-python",
   "name": "python",
   "nbconvert_exporter": "python",
   "pygments_lexer": "ipython3",
   "version": "3.7.1"
  }
 },
 "nbformat": 4,
 "nbformat_minor": 2
}
